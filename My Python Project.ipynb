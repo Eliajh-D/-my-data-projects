{
 "cells": [
  {
   "cell_type": "code",
   "execution_count": 1,
   "id": "e286686b",
   "metadata": {},
   "outputs": [],
   "source": [
    "#How can you create a Python program that allows the player to play Rock-Paper-Scissors against the computer?\n",
    "\n",
    "\n",
    "import random"
   ]
  },
  {
   "cell_type": "code",
   "execution_count": 1,
   "id": "3654f88a",
   "metadata": {},
   "outputs": [],
   "source": [
    "def get_user_choice():\n",
    "    while True:\n",
    "        user_choich=input(\"Enter your choice (rock/paper/sciccors): \")\n",
    "        if user_choice.Lower() in [\"rock\", \"paper\", \"sciccors\"]:\n",
    "            return user_choice.Lower()\n",
    "        else:\n",
    "            print(\"Invalid input. please try again.\")"
   ]
  },
  {
   "cell_type": "code",
   "execution_count": 3,
   "id": "4d4df21e",
   "metadata": {},
   "outputs": [],
   "source": [
    "def get_computer_choice():\n",
    "    choices=[\"rock\",\"paper\",\"sciccors\"]\n",
    "    return random.choice(choices)"
   ]
  },
  {
   "cell_type": "code",
   "execution_count": 10,
   "id": "c9015d63",
   "metadata": {},
   "outputs": [],
   "source": [
    "def determine_winner(user_choice, compuetr_choice):\n",
    "        if user_choice==computer_choice:\n",
    "                     return \"It's a tie!\"\n",
    "        elif (user_choice==\"rock\" and computer_choice==\"scissors\") or \\\n",
    "                     (user_choice==\"paper\" and computer_choice==\"rock\") or \\\n",
    "                     (user_choice==\"scissors\" and computer_choice==\"paper\"):\n",
    "                     return \"You Win!\"\n",
    "        else:\n",
    "                     return \"Computer Win!\""
   ]
  },
  {
   "cell_type": "code",
   "execution_count": null,
   "id": "fb29c789",
   "metadata": {},
   "outputs": [],
   "source": [
    "while True:\n",
    "    user_choice = get_user_choice()\n",
    "    computer_choice = get_compueter_choice()\n",
    "    print(f\"computer chose:{computer_choice}\")\n",
    "    print(determine_winner(user_choice,computer_choice))\n",
    "    play_again = input(\"play again? (yes/no): \")\n",
    "    if play_again.Lower() !=\"yes\":\n",
    "           break"
   ]
  },
  {
   "cell_type": "code",
   "execution_count": null,
   "id": "088f8a79",
   "metadata": {},
   "outputs": [],
   "source": [
    "#How can I write a Python program that uses the Binary Search algorithm to find a target value in a sorted list?"
   ]
  },
  {
   "cell_type": "code",
   "execution_count": 2,
   "id": "44635324",
   "metadata": {},
   "outputs": [],
   "source": [
    "def binary_search(sorted_list,target):\n",
    "    low = 0\n",
    "    high = len(sorted_list) - 1\n",
    "    while low <= high:\n",
    "        mid = (low + high) //2\n",
    "        if sorted_list[mid] ==target:\n",
    "            return mid\n",
    "        elif sorted_list[mid] > target:\n",
    "            high = mid - 1\n",
    "        else:\n",
    "                low = mid + 1\n",
    "                return -1"
   ]
  },
  {
   "cell_type": "code",
   "execution_count": 3,
   "id": "fd60152f",
   "metadata": {},
   "outputs": [],
   "source": [
    "#How can I write a Python program that can send emails to one or multiple recipients using an email account?"
   ]
  },
  {
   "cell_type": "code",
   "execution_count": 1,
   "id": "48ae9ef7-2582-4dfa-aa81-00098d71bdc4",
   "metadata": {},
   "outputs": [],
   "source": [
    "import smtplib\n",
    "from email.message import EmailMessage"
   ]
  },
  {
   "cell_type": "code",
   "execution_count": 2,
   "id": "84f9f3c9-4b5d-42ba-8040-f74ab8597ed0",
   "metadata": {},
   "outputs": [],
   "source": [
    "def send_email(subject, message, from_addr, password, to_addr):\n",
    "    msg = EmailMassage()\n",
    "    msg.set_content(message)\n",
    "    msg['Subject'] = subject\n",
    "    msg['From'] = from_addr\n",
    "    msg['To'] = to_addr\n",
    "    with smtplib.SMTP_SSL('(link unavailable)', 465) as smtp:\n",
    "        smtp.login(fron_addr, password)\n",
    "        smtp.send_message(msg)"
   ]
  },
  {
   "cell_type": "code",
   "execution_count": 3,
   "id": "8a4ab21a",
   "metadata": {},
   "outputs": [],
   "source": [
    "#How can you write a Python program that takes name and birthdate as input and outputs the corresponding Zodiac sign and store it in a file using Pandas?"
   ]
  },
  {
   "cell_type": "code",
   "execution_count": 6,
   "id": "a1d95854",
   "metadata": {},
   "outputs": [],
   "source": [
    "import pandas as pd\n",
    "from datetime import datetime "
   ]
  },
  {
   "cell_type": "code",
   "execution_count": 16,
   "id": "9fa000be",
   "metadata": {},
   "outputs": [],
   "source": [
    "def calculate_zodiac_sign(birthdate):\n",
    "    month, day = birthdate.split('-')\n",
    "    month = int(month)\n",
    "    day = int(day)"
   ]
  },
  {
   "cell_type": "code",
   "execution_count": 20,
   "id": "6338a4ce",
   "metadata": {},
   "outputs": [],
   "source": [
    "zodiac_signs = {\n",
    "    'Taurus':((4,20), (5,20)),\n",
    "    'Aries':((3,21),(4,19)),\n",
    "    'Gemini':((5,21),(6,20)),\n",
    "    'Cancer':((6,21),(7,22)),\n",
    "    'Leo':((7,23),(8,22)),\n",
    "    'Virgo':((8,23),(9,22)),\n",
    "    'Libra':((9,23),(10,22)),\n",
    "    'Scorpio':((10,23),(11,21)),\n",
    "    'Sagittarius':((11,22),(12,21)),\n",
    "    'Capricorn':((12,22),(1,19)),\n",
    "    'Aquarius':((1,20),(2,18)),\n",
    "    'Pisces':((2,19),(3,20))    \n",
    " }\n"
   ]
  },
  {
   "cell_type": "code",
   "execution_count": 4,
   "id": "03edc556",
   "metadata": {},
   "outputs": [
    {
     "ename": "SyntaxError",
     "evalue": "'return' outside function (2453844106.py, line 5)",
     "output_type": "error",
     "traceback": [
      "\u001b[1;36m  Cell \u001b[1;32mIn[4], line 5\u001b[1;36m\u001b[0m\n\u001b[1;33m    return sign\u001b[0m\n\u001b[1;37m    ^\u001b[0m\n\u001b[1;31mSyntaxError\u001b[0m\u001b[1;31m:\u001b[0m 'return' outside function\n"
     ]
    }
   ],
   "source": [
    "for sign, (start, end) in zodiac_signs.items():\n",
    "    \n",
    "     if (month, day) >= start and (month,day) <= end:\n",
    "  \n",
    "                  return sign"
   ]
  },
  {
   "cell_type": "code",
   "execution_count": 23,
   "id": "bf4bfdfd",
   "metadata": {},
   "outputs": [],
   "source": [
    "def store_data(name,birthdate,zodiac_sign):\n",
    "    data = {'Name': [name], 'Birthdate':[birthdate], 'Zodiac Sign':[zodiac_sign]}\n",
    "    df = pd.DataFrame(data)\n",
    "    df.to_csv('zodiac_sign.csv',index=False)"
   ]
  },
  {
   "cell_type": "code",
   "execution_count": null,
   "id": "f58eb52f",
   "metadata": {},
   "outputs": [],
   "source": [
    "name = input(\"Enter yuor name:\")\n",
    "birthdate = input(\"Enter your birthdate(MM-DD):\")\n",
    "zodiac_sign = calculate_zodiac_sign(birthdate)\n",
    "store_data(name,birthdate,zodiac_sign)"
   ]
  },
  {
   "cell_type": "code",
   "execution_count": 2,
   "id": "d15b4c48",
   "metadata": {},
   "outputs": [],
   "source": [
    "#Can you develop a Python program that takes a directory path and a pattern as input, and renames all the files in the directory that match the pattern to a new name that follows the specified pattern?"
   ]
  },
  {
   "cell_type": "code",
   "execution_count": 9,
   "id": "4ece385c-ae61-466e-8c0f-596ea63e6882",
   "metadata": {},
   "outputs": [],
   "source": [
    "import os\n",
    "import re"
   ]
  },
  {
   "cell_type": "code",
   "execution_count": 10,
   "id": "f1c639c9-1f5e-49c7-ac13-887dd756d05d",
   "metadata": {},
   "outputs": [],
   "source": [
    "def rename_files(path,pattern,new_pattern):\n",
    "    files = os.listdir(path)\n",
    "    for file in files:\n",
    "        if re.match(pattern,file):\n",
    "            new_file = re.sub(pattern, new_pattern, file)\n",
    "            os.rename(os.path.join(path,file), os.path.join(path, new_file))\n",
    "            "
   ]
  },
  {
   "cell_type": "code",
   "execution_count": 11,
   "id": "b5e8480f-45f2-4756-ab3a-2a5342fa778f",
   "metadata": {},
   "outputs": [
    {
     "ename": "FileNotFoundError",
     "evalue": "[WinError 3] The system cannot find the path specified: '/path/to/directory'",
     "output_type": "error",
     "traceback": [
      "\u001b[1;31m---------------------------------------------------------------------------\u001b[0m",
      "\u001b[1;31mFileNotFoundError\u001b[0m                         Traceback (most recent call last)",
      "Cell \u001b[1;32mIn[11], line 4\u001b[0m\n\u001b[0;32m      2\u001b[0m pattern \u001b[38;5;241m=\u001b[39m \u001b[38;5;124m'\u001b[39m\u001b[38;5;124m^old_name_(.*)\u001b[39m\u001b[38;5;124m\\\u001b[39m\u001b[38;5;124m.txt$\u001b[39m\u001b[38;5;124m'\u001b[39m\n\u001b[0;32m      3\u001b[0m new_pattern \u001b[38;5;241m=\u001b[39m \u001b[38;5;124m'\u001b[39m\u001b[38;5;124mnew_name_\u001b[39m\u001b[38;5;130;01m\\\\\u001b[39;00m\u001b[38;5;124m1.txt\u001b[39m\u001b[38;5;124m'\u001b[39m\n\u001b[1;32m----> 4\u001b[0m rename_files(path, pattern, new_pattern)\n",
      "Cell \u001b[1;32mIn[10], line 2\u001b[0m, in \u001b[0;36mrename_files\u001b[1;34m(path, pattern, new_pattern)\u001b[0m\n\u001b[0;32m      1\u001b[0m \u001b[38;5;28;01mdef\u001b[39;00m \u001b[38;5;21mrename_files\u001b[39m(path,pattern,new_pattern):\n\u001b[1;32m----> 2\u001b[0m     files \u001b[38;5;241m=\u001b[39m os\u001b[38;5;241m.\u001b[39mlistdir(path)\n\u001b[0;32m      3\u001b[0m     \u001b[38;5;28;01mfor\u001b[39;00m file \u001b[38;5;129;01min\u001b[39;00m files:\n\u001b[0;32m      4\u001b[0m         \u001b[38;5;28;01mif\u001b[39;00m re\u001b[38;5;241m.\u001b[39mmatch(pattern,file):\n",
      "\u001b[1;31mFileNotFoundError\u001b[0m: [WinError 3] The system cannot find the path specified: '/path/to/directory'"
     ]
    }
   ],
   "source": [
    "path = '/path/to/directory'\n",
    "pattern = '^old_name_(.*)\\.txt$'\n",
    "new_pattern = 'new_name_\\\\1.txt'\n",
    "rename_files(path, pattern, new_pattern)"
   ]
  },
  {
   "cell_type": "code",
   "execution_count": 9,
   "id": "d5fbe47b-e590-4dd8-85ca-78cc3c8a2cea",
   "metadata": {},
   "outputs": [],
   "source": [
    "#What is the process to extract data from the wikipedia website using Beautiful Soup in Python? Specifically, how can we extract the rank, name of the company, Industry, Revenue, Revenue growth, Headquarters for the top US companies by Revenue?"
   ]
  },
  {
   "cell_type": "code",
   "execution_count": 7,
   "id": "5da6f8e5-9fcd-4636-a776-92e8005e4097",
   "metadata": {},
   "outputs": [],
   "source": [
    "import requests\n",
    "from bs4 import BeautifulSoup"
   ]
  },
  {
   "cell_type": "code",
   "execution_count": 8,
   "id": "721e4c8e-a97d-4f27-877c-e0751dfa3643",
   "metadata": {},
   "outputs": [
    {
     "ename": "MissingSchema",
     "evalue": "Invalid URL '(link unavailable)': No scheme supplied. Perhaps you meant https://(link unavailable)?",
     "output_type": "error",
     "traceback": [
      "\u001b[1;31m---------------------------------------------------------------------------\u001b[0m",
      "\u001b[1;31mMissingSchema\u001b[0m                             Traceback (most recent call last)",
      "Cell \u001b[1;32mIn[8], line 2\u001b[0m\n\u001b[0;32m      1\u001b[0m url \u001b[38;5;241m=\u001b[39m \u001b[38;5;124m\"\u001b[39m\u001b[38;5;124m(link unavailable)\u001b[39m\u001b[38;5;124m\"\u001b[39m\n\u001b[1;32m----> 2\u001b[0m response \u001b[38;5;241m=\u001b[39m requests\u001b[38;5;241m.\u001b[39mget(url)\n\u001b[0;32m      3\u001b[0m soup \u001b[38;5;241m=\u001b[39m BeautifulSoup(response\u001b[38;5;241m.\u001b[39mcontent,\u001b[38;5;124m'\u001b[39m\u001b[38;5;124mhtml.parser\u001b[39m\u001b[38;5;124m'\u001b[39m)\n\u001b[0;32m      4\u001b[0m table \u001b[38;5;241m=\u001b[39m soup\u001b[38;5;241m.\u001b[39mfind(\u001b[38;5;124m'\u001b[39m\u001b[38;5;124mtable\u001b[39m\u001b[38;5;124m'\u001b[39m , {\u001b[38;5;124m'\u001b[39m\u001b[38;5;124mclass\u001b[39m\u001b[38;5;124m'\u001b[39m:\u001b[38;5;124m'\u001b[39m\u001b[38;5;124mwikitable sortable\u001b[39m\u001b[38;5;124m'\u001b[39m})\n",
      "File \u001b[1;32mC:\\ProgramData\\anaconda3\\Lib\\site-packages\\requests\\api.py:73\u001b[0m, in \u001b[0;36mget\u001b[1;34m(url, params, **kwargs)\u001b[0m\n\u001b[0;32m     62\u001b[0m \u001b[38;5;28;01mdef\u001b[39;00m \u001b[38;5;21mget\u001b[39m(url, params\u001b[38;5;241m=\u001b[39m\u001b[38;5;28;01mNone\u001b[39;00m, \u001b[38;5;241m*\u001b[39m\u001b[38;5;241m*\u001b[39mkwargs):\n\u001b[0;32m     63\u001b[0m \u001b[38;5;250m    \u001b[39m\u001b[38;5;124mr\u001b[39m\u001b[38;5;124;03m\"\"\"Sends a GET request.\u001b[39;00m\n\u001b[0;32m     64\u001b[0m \n\u001b[0;32m     65\u001b[0m \u001b[38;5;124;03m    :param url: URL for the new :class:`Request` object.\u001b[39;00m\n\u001b[1;32m   (...)\u001b[0m\n\u001b[0;32m     70\u001b[0m \u001b[38;5;124;03m    :rtype: requests.Response\u001b[39;00m\n\u001b[0;32m     71\u001b[0m \u001b[38;5;124;03m    \"\"\"\u001b[39;00m\n\u001b[1;32m---> 73\u001b[0m     \u001b[38;5;28;01mreturn\u001b[39;00m request(\u001b[38;5;124m\"\u001b[39m\u001b[38;5;124mget\u001b[39m\u001b[38;5;124m\"\u001b[39m, url, params\u001b[38;5;241m=\u001b[39mparams, \u001b[38;5;241m*\u001b[39m\u001b[38;5;241m*\u001b[39mkwargs)\n",
      "File \u001b[1;32mC:\\ProgramData\\anaconda3\\Lib\\site-packages\\requests\\api.py:59\u001b[0m, in \u001b[0;36mrequest\u001b[1;34m(method, url, **kwargs)\u001b[0m\n\u001b[0;32m     55\u001b[0m \u001b[38;5;66;03m# By using the 'with' statement we are sure the session is closed, thus we\u001b[39;00m\n\u001b[0;32m     56\u001b[0m \u001b[38;5;66;03m# avoid leaving sockets open which can trigger a ResourceWarning in some\u001b[39;00m\n\u001b[0;32m     57\u001b[0m \u001b[38;5;66;03m# cases, and look like a memory leak in others.\u001b[39;00m\n\u001b[0;32m     58\u001b[0m \u001b[38;5;28;01mwith\u001b[39;00m sessions\u001b[38;5;241m.\u001b[39mSession() \u001b[38;5;28;01mas\u001b[39;00m session:\n\u001b[1;32m---> 59\u001b[0m     \u001b[38;5;28;01mreturn\u001b[39;00m session\u001b[38;5;241m.\u001b[39mrequest(method\u001b[38;5;241m=\u001b[39mmethod, url\u001b[38;5;241m=\u001b[39murl, \u001b[38;5;241m*\u001b[39m\u001b[38;5;241m*\u001b[39mkwargs)\n",
      "File \u001b[1;32mC:\\ProgramData\\anaconda3\\Lib\\site-packages\\requests\\sessions.py:575\u001b[0m, in \u001b[0;36mSession.request\u001b[1;34m(self, method, url, params, data, headers, cookies, files, auth, timeout, allow_redirects, proxies, hooks, stream, verify, cert, json)\u001b[0m\n\u001b[0;32m    562\u001b[0m \u001b[38;5;66;03m# Create the Request.\u001b[39;00m\n\u001b[0;32m    563\u001b[0m req \u001b[38;5;241m=\u001b[39m Request(\n\u001b[0;32m    564\u001b[0m     method\u001b[38;5;241m=\u001b[39mmethod\u001b[38;5;241m.\u001b[39mupper(),\n\u001b[0;32m    565\u001b[0m     url\u001b[38;5;241m=\u001b[39murl,\n\u001b[1;32m   (...)\u001b[0m\n\u001b[0;32m    573\u001b[0m     hooks\u001b[38;5;241m=\u001b[39mhooks,\n\u001b[0;32m    574\u001b[0m )\n\u001b[1;32m--> 575\u001b[0m prep \u001b[38;5;241m=\u001b[39m \u001b[38;5;28mself\u001b[39m\u001b[38;5;241m.\u001b[39mprepare_request(req)\n\u001b[0;32m    577\u001b[0m proxies \u001b[38;5;241m=\u001b[39m proxies \u001b[38;5;129;01mor\u001b[39;00m {}\n\u001b[0;32m    579\u001b[0m settings \u001b[38;5;241m=\u001b[39m \u001b[38;5;28mself\u001b[39m\u001b[38;5;241m.\u001b[39mmerge_environment_settings(\n\u001b[0;32m    580\u001b[0m     prep\u001b[38;5;241m.\u001b[39murl, proxies, stream, verify, cert\n\u001b[0;32m    581\u001b[0m )\n",
      "File \u001b[1;32mC:\\ProgramData\\anaconda3\\Lib\\site-packages\\requests\\sessions.py:486\u001b[0m, in \u001b[0;36mSession.prepare_request\u001b[1;34m(self, request)\u001b[0m\n\u001b[0;32m    483\u001b[0m     auth \u001b[38;5;241m=\u001b[39m get_netrc_auth(request\u001b[38;5;241m.\u001b[39murl)\n\u001b[0;32m    485\u001b[0m p \u001b[38;5;241m=\u001b[39m PreparedRequest()\n\u001b[1;32m--> 486\u001b[0m p\u001b[38;5;241m.\u001b[39mprepare(\n\u001b[0;32m    487\u001b[0m     method\u001b[38;5;241m=\u001b[39mrequest\u001b[38;5;241m.\u001b[39mmethod\u001b[38;5;241m.\u001b[39mupper(),\n\u001b[0;32m    488\u001b[0m     url\u001b[38;5;241m=\u001b[39mrequest\u001b[38;5;241m.\u001b[39murl,\n\u001b[0;32m    489\u001b[0m     files\u001b[38;5;241m=\u001b[39mrequest\u001b[38;5;241m.\u001b[39mfiles,\n\u001b[0;32m    490\u001b[0m     data\u001b[38;5;241m=\u001b[39mrequest\u001b[38;5;241m.\u001b[39mdata,\n\u001b[0;32m    491\u001b[0m     json\u001b[38;5;241m=\u001b[39mrequest\u001b[38;5;241m.\u001b[39mjson,\n\u001b[0;32m    492\u001b[0m     headers\u001b[38;5;241m=\u001b[39mmerge_setting(\n\u001b[0;32m    493\u001b[0m         request\u001b[38;5;241m.\u001b[39mheaders, \u001b[38;5;28mself\u001b[39m\u001b[38;5;241m.\u001b[39mheaders, dict_class\u001b[38;5;241m=\u001b[39mCaseInsensitiveDict\n\u001b[0;32m    494\u001b[0m     ),\n\u001b[0;32m    495\u001b[0m     params\u001b[38;5;241m=\u001b[39mmerge_setting(request\u001b[38;5;241m.\u001b[39mparams, \u001b[38;5;28mself\u001b[39m\u001b[38;5;241m.\u001b[39mparams),\n\u001b[0;32m    496\u001b[0m     auth\u001b[38;5;241m=\u001b[39mmerge_setting(auth, \u001b[38;5;28mself\u001b[39m\u001b[38;5;241m.\u001b[39mauth),\n\u001b[0;32m    497\u001b[0m     cookies\u001b[38;5;241m=\u001b[39mmerged_cookies,\n\u001b[0;32m    498\u001b[0m     hooks\u001b[38;5;241m=\u001b[39mmerge_hooks(request\u001b[38;5;241m.\u001b[39mhooks, \u001b[38;5;28mself\u001b[39m\u001b[38;5;241m.\u001b[39mhooks),\n\u001b[0;32m    499\u001b[0m )\n\u001b[0;32m    500\u001b[0m \u001b[38;5;28;01mreturn\u001b[39;00m p\n",
      "File \u001b[1;32mC:\\ProgramData\\anaconda3\\Lib\\site-packages\\requests\\models.py:368\u001b[0m, in \u001b[0;36mPreparedRequest.prepare\u001b[1;34m(self, method, url, headers, files, data, params, auth, cookies, hooks, json)\u001b[0m\n\u001b[0;32m    365\u001b[0m \u001b[38;5;250m\u001b[39m\u001b[38;5;124;03m\"\"\"Prepares the entire request with the given parameters.\"\"\"\u001b[39;00m\n\u001b[0;32m    367\u001b[0m \u001b[38;5;28mself\u001b[39m\u001b[38;5;241m.\u001b[39mprepare_method(method)\n\u001b[1;32m--> 368\u001b[0m \u001b[38;5;28mself\u001b[39m\u001b[38;5;241m.\u001b[39mprepare_url(url, params)\n\u001b[0;32m    369\u001b[0m \u001b[38;5;28mself\u001b[39m\u001b[38;5;241m.\u001b[39mprepare_headers(headers)\n\u001b[0;32m    370\u001b[0m \u001b[38;5;28mself\u001b[39m\u001b[38;5;241m.\u001b[39mprepare_cookies(cookies)\n",
      "File \u001b[1;32mC:\\ProgramData\\anaconda3\\Lib\\site-packages\\requests\\models.py:439\u001b[0m, in \u001b[0;36mPreparedRequest.prepare_url\u001b[1;34m(self, url, params)\u001b[0m\n\u001b[0;32m    436\u001b[0m     \u001b[38;5;28;01mraise\u001b[39;00m InvalidURL(\u001b[38;5;241m*\u001b[39me\u001b[38;5;241m.\u001b[39margs)\n\u001b[0;32m    438\u001b[0m \u001b[38;5;28;01mif\u001b[39;00m \u001b[38;5;129;01mnot\u001b[39;00m scheme:\n\u001b[1;32m--> 439\u001b[0m     \u001b[38;5;28;01mraise\u001b[39;00m MissingSchema(\n\u001b[0;32m    440\u001b[0m         \u001b[38;5;124mf\u001b[39m\u001b[38;5;124m\"\u001b[39m\u001b[38;5;124mInvalid URL \u001b[39m\u001b[38;5;132;01m{\u001b[39;00murl\u001b[38;5;132;01m!r}\u001b[39;00m\u001b[38;5;124m: No scheme supplied. \u001b[39m\u001b[38;5;124m\"\u001b[39m\n\u001b[0;32m    441\u001b[0m         \u001b[38;5;124mf\u001b[39m\u001b[38;5;124m\"\u001b[39m\u001b[38;5;124mPerhaps you meant https://\u001b[39m\u001b[38;5;132;01m{\u001b[39;00murl\u001b[38;5;132;01m}\u001b[39;00m\u001b[38;5;124m?\u001b[39m\u001b[38;5;124m\"\u001b[39m\n\u001b[0;32m    442\u001b[0m     )\n\u001b[0;32m    444\u001b[0m \u001b[38;5;28;01mif\u001b[39;00m \u001b[38;5;129;01mnot\u001b[39;00m host:\n\u001b[0;32m    445\u001b[0m     \u001b[38;5;28;01mraise\u001b[39;00m InvalidURL(\u001b[38;5;124mf\u001b[39m\u001b[38;5;124m\"\u001b[39m\u001b[38;5;124mInvalid URL \u001b[39m\u001b[38;5;132;01m{\u001b[39;00murl\u001b[38;5;132;01m!r}\u001b[39;00m\u001b[38;5;124m: No host supplied\u001b[39m\u001b[38;5;124m\"\u001b[39m)\n",
      "\u001b[1;31mMissingSchema\u001b[0m: Invalid URL '(link unavailable)': No scheme supplied. Perhaps you meant https://(link unavailable)?"
     ]
    }
   ],
   "source": [
    "url = \"(link unavailable)\"\n",
    "response = requests.get(url)\n",
    "soup = BeautifulSoup(response.content,'html.parser')\n",
    "table = soup.find('table' , {'class':'wikitable sortable'})\n",
    "data = []\n",
    "cols = row.find_all('tr')\n",
    "data.append({'Rank': cols[0].text.strip(),\n",
    "             'Name': cols[1].text.strip(),\n",
    "             'Industry': cols[2].text.strip(),\n",
    "             'Revenue': cols[3].text.strip(),\n",
    "             'Revene Growth':\n",
    "        cols[4].text.strip(),\n",
    "                'Headquarters':\n",
    "        cols[6].text.strip()})\n",
    "for item in data:\n",
    "    print(item)"
   ]
  },
  {
   "cell_type": "code",
   "execution_count": null,
   "id": "312500da-ce46-4398-bb24-9194ab13d6aa",
   "metadata": {},
   "outputs": [],
   "source": []
  }
 ],
 "metadata": {
  "kernelspec": {
   "display_name": "Python 3 (ipykernel)",
   "language": "python",
   "name": "python3"
  },
  "language_info": {
   "codemirror_mode": {
    "name": "ipython",
    "version": 3
   },
   "file_extension": ".py",
   "mimetype": "text/x-python",
   "name": "python",
   "nbconvert_exporter": "python",
   "pygments_lexer": "ipython3",
   "version": "3.11.7"
  }
 },
 "nbformat": 4,
 "nbformat_minor": 5
}
